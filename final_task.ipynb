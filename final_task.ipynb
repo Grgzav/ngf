{
 "cells": [
  {
   "cell_type": "code",
   "execution_count": null,
   "id": "fe075d5d",
   "metadata": {},
   "outputs": [],
   "source": [
    "import pandas as pd\n"
   ]
  },
  {
   "cell_type": "code",
   "execution_count": null,
   "id": "089bfd49",
   "metadata": {},
   "outputs": [],
   "source": [
    "# Load survey data\n",
    "file_path = 'data.xlsx'  # Ensure data.xlsx is in the same directory\n",
    "index2 = pd.read_excel(file_path, sheet_name='index_2')\n",
    "df = pd.read_excel(file_path, sheet_name='Pollfish_Survey_Work_behaviours')\n"
   ]
  },
  {
   "cell_type": "code",
   "execution_count": null,
   "id": "c52e72ae",
   "metadata": {},
   "outputs": [],
   "source": [
    "# Identify cognitive inputs (I) and performance targets (T)\n",
    "input_codes = index2[index2['xy'] == 'I']['Code'].tolist()\n",
    "target_codes = index2[index2['xy'] == 'T']['Code'].tolist()\n",
    "\n",
    "# Identify task questions Q47–Q76\n",
    "task_codes = [code for code in index2['Code'] \n",
    "              if code.startswith('Q') and 47 <= int(code[1:]) <= 76 and code in df.columns]\n",
    "\n",
    "print(f\"Found {len(input_codes)} cognitive inputs, {len(task_codes)} tasks, {len(target_codes)} performance targets\")\n"
   ]
  },
  {
   "cell_type": "code",
   "execution_count": null,
   "id": "cef60fbb",
   "metadata": {},
   "outputs": [],
   "source": [
    "# Export correlations to Excel: one sheet per task question and response value\n",
    "output_file = 'task_group_correlations.xlsx'\n",
    "with pd.ExcelWriter(output_file, engine='xlsxwriter') as writer:\n",
    "    for task in task_codes:\n",
    "        # For each response value in this task\n",
    "        for resp in sorted(df[task].dropna().unique()):\n",
    "            subset = df[df[task] == resp]\n",
    "            if subset.empty:\n",
    "                continue\n",
    "            rows = input_codes + task_codes\n",
    "            # Compute correlation matrix between rows and performance targets\n",
    "            data = subset[rows + target_codes].select_dtypes(include='number')\n",
    "            corr_df = data[rows + target_codes].corr().loc[rows, target_codes]\n",
    "            # Sheet name: task_resp (truncate to 31 chars)\n",
    "            sheet_name = f\"{task}_{int(resp)}\"\n",
    "            sheet_name = sheet_name[:31]\n",
    "            corr_df.to_excel(writer, sheet_name=sheet_name)\n",
    "print(f\"Exported task-based correlations to {output_file}\")"
   ]
  }
 ],
 "metadata": {},
 "nbformat": 4,
 "nbformat_minor": 5
}
