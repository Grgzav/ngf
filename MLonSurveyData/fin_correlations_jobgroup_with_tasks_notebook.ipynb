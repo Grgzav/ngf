{
 "cells": [
  {
   "cell_type": "code",
   "execution_count": null,
   "id": "6b0891d6",
   "metadata": {},
   "outputs": [],
   "source": [
    "import pandas as pd\n"
   ]
  },
  {
   "cell_type": "code",
   "execution_count": null,
   "id": "d3d8f430",
   "metadata": {},
   "outputs": [],
   "source": [
    "# Load survey data\n",
    "file_path = 'data.xlsx'  # Ensure data.xlsx is in the same directory\n",
    "index2 = pd.read_excel(file_path, sheet_name='index_2')\n",
    "df = pd.read_excel(file_path, sheet_name='Pollfish_Survey_Work_behaviours')\n"
   ]
  },
  {
   "cell_type": "code",
   "execution_count": null,
   "id": "08c38248",
   "metadata": {},
   "outputs": [],
   "source": [
    "# Identify cognitive inputs (I), task questions (Q47–Q76), and performance targets (T)\n",
    "input_codes = index2[index2['xy'] == 'I']['Code'].tolist()\n",
    "task_codes = [code for code in index2['Code'] \n",
    "              if code.startswith('Q') and 47 <= int(code[1:]) <= 76 and code in df.columns]\n",
    "target_codes = index2[index2['xy'] == 'T']['Code'].tolist()\n",
    "\n",
    "# Map Q85 work positions into broader job groups\n",
    "def map_position(pos):\n",
    "    p = str(pos).lower()\n",
    "    if 'engineer' in p: return 'Engineering'\n",
    "    if 'manager' in p or 'director' in p or 'lead' in p: return 'Management'\n",
    "    if 'sales' in p: return 'Sales'\n",
    "    if 'marketing' in p: return 'Marketing'\n",
    "    if 'hr' in p or 'human resources' in p: return 'HR'\n",
    "    if 'design' in p: return 'Design'\n",
    "    if 'analyst' in p: return 'Analytics'\n",
    "    if 'admin' in p or 'assistant' in p: return 'Administration'\n",
    "    return 'Other'\n",
    "\n",
    "df['JobGroup'] = df['Q85'].apply(map_position)\n",
    "\n",
    "print(f\"Inputs: {len(input_codes)} codes, Tasks: {len(task_codes)} codes, Targets: {len(target_codes)} codes\")\n"
   ]
  },
  {
   "cell_type": "code",
   "execution_count": null,
   "id": "41b18c43",
   "metadata": {},
   "outputs": [],
   "source": [
    "# Compute and export correlation matrices for each job group\n",
    "output_file = 'correlations_by_jobgroup_with_tasks.xlsx'\n",
    "with pd.ExcelWriter(output_file, engine='xlsxwriter') as writer:\n",
    "    for group, subset in df.groupby('JobGroup'):\n",
    "        # Combine input and task codes as rows\n",
    "        rows = input_codes + task_codes\n",
    "        # Ensure numeric data\n",
    "        data = subset[rows + target_codes].select_dtypes(include='number')\n",
    "        # Compute correlation between rows (inputs+tasks) and targets\n",
    "        corr_matrix = data[rows].corrwith(data[target_codes].mean(axis=1))  # but this gives a series\n",
    "        # Instead compute full matrix: corr of each row code vs each target code\n",
    "        corr_df = data[rows + target_codes].corr().loc[rows, target_codes]\n",
    "        # Write to sheet\n",
    "        sheet_name = group[:31]  # sheet name limit\n",
    "        corr_df.to_excel(writer, sheet_name=sheet_name)\n",
    "print(f\"Exported excel to {output_file}\")"
   ]
  }
 ],
 "metadata": {},
 "nbformat": 4,
 "nbformat_minor": 5
}
